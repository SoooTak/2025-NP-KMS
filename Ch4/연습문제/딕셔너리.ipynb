{
 "cells": [
  {
   "cell_type": "markdown",
   "id": "89e2b331",
   "metadata": {},
   "source": [
    "# 4장 연습문제 - 튜플\n",
    "| 2025.09.09 [2주차] | 202311388 김민상 |\n",
    "|---|---|"
   ]
  },
  {
   "cell_type": "markdown",
   "id": "99b8dd04",
   "metadata": {},
   "source": [
    "## 연습문제 1\n",
    "\n",
    "1. 다음 딕셔너리에 대해 물음에 답하라.\n"
   ]
  },
  {
   "cell_type": "code",
   "execution_count": 2,
   "id": "6443d8db",
   "metadata": {},
   "outputs": [],
   "source": [
    "days = {'January':31, 'February':28, 'March':31, 'April':30,\n",
    "'May':31, 'June':30, 'July':31, 'August':31,\n",
    "'September':30, 'October':31, 'November':30, 'December':31}"
   ]
  },
  {
   "cell_type": "markdown",
   "id": "e2206fea",
   "metadata": {},
   "source": [
    "사용자가 월을 입력하면 해당 월에 일수를 출력하라\n"
   ]
  },
  {
   "cell_type": "code",
   "execution_count": 3,
   "id": "4506249d",
   "metadata": {},
   "outputs": [
    {
     "name": "stdout",
     "output_type": "stream",
     "text": [
      "July는 31일\n"
     ]
    }
   ],
   "source": [
    "month = input(\"월: \").strip()\n",
    "\n",
    "# 첫 글자만 대문자, 나머지는 소문자로\n",
    "month = month[:1].upper() + month[1:].lower()\n",
    "\n",
    "if month in days:\n",
    "    print(f\"{month}는 {days[month]}일\")\n",
    "else:\n",
    "    print(\"해당 월 없음\")\n"
   ]
  },
  {
   "cell_type": "markdown",
   "id": "374b438e",
   "metadata": {},
   "source": [
    "\n",
    "알파벳 순서로 모든 월을 출력하라\n"
   ]
  },
  {
   "cell_type": "code",
   "execution_count": 4,
   "id": "3b8b7279",
   "metadata": {},
   "outputs": [
    {
     "name": "stdout",
     "output_type": "stream",
     "text": [
      "April\n",
      "August\n",
      "December\n",
      "February\n",
      "January\n",
      "July\n",
      "June\n",
      "March\n",
      "May\n",
      "November\n",
      "October\n",
      "September\n"
     ]
    }
   ],
   "source": [
    "\n",
    "sorted_months = sorted(days.keys())\n",
    "for m in sorted_months:\n",
    "    print(m)\n"
   ]
  },
  {
   "cell_type": "markdown",
   "id": "1905d03d",
   "metadata": {},
   "source": [
    "\n",
    "일수가 31인 월을 모두 출력하라\n",
    "\n"
   ]
  },
  {
   "cell_type": "code",
   "execution_count": 5,
   "id": "e48987ae",
   "metadata": {},
   "outputs": [
    {
     "name": "stdout",
     "output_type": "stream",
     "text": [
      "January\n",
      "March\n",
      "May\n",
      "July\n",
      "August\n",
      "October\n",
      "December\n"
     ]
    }
   ],
   "source": [
    "for m in days:\n",
    "    if days[m] == 31:\n",
    "        print(m)\n"
   ]
  },
  {
   "cell_type": "markdown",
   "id": "839aa6a5",
   "metadata": {},
   "source": [
    "월의 일수를 기준으로 오름차순으로 (key-value) 쌍을 출력하라\n"
   ]
  },
  {
   "cell_type": "code",
   "execution_count": 6,
   "id": "8b7b4ea9",
   "metadata": {},
   "outputs": [
    {
     "name": "stdout",
     "output_type": "stream",
     "text": [
      "February 28\n",
      "April 30\n",
      "June 30\n",
      "September 30\n",
      "November 30\n",
      "January 31\n",
      "March 31\n",
      "May 31\n",
      "July 31\n",
      "August 31\n",
      "October 31\n",
      "December 31\n"
     ]
    }
   ],
   "source": [
    "items = list(days.items())\n",
    "\n",
    "items.sort(key=lambda pair: pair[1])\n",
    "\n",
    "for m, d in items:\n",
    "    print(m, d)\n"
   ]
  },
  {
   "cell_type": "markdown",
   "id": "0aa15a54",
   "metadata": {},
   "source": [
    "\n",
    "사용자가 월을 3자리만 입력하면 월의 일수를 출력하라.(Jan, Feb 등)"
   ]
  },
  {
   "cell_type": "code",
   "execution_count": 7,
   "id": "ba9df350",
   "metadata": {},
   "outputs": [
    {
     "name": "stdout",
     "output_type": "stream",
     "text": [
      "July는 31일\n"
     ]
    }
   ],
   "source": [
    "abbr = input(\"월 약어 3글자: \").strip().lower()\n",
    "\n",
    "found_full = None\n",
    "for m in days:\n",
    "    if m.lower().startswith(abbr):   # startswith() -> 문자열이 해당 문자열로 시작하는가\n",
    "        found_full = m\n",
    "        break\n",
    "\n",
    "if found_full is not None:\n",
    "    print(f\"{found_full}는 {days[found_full]}일\")\n",
    "else:\n",
    "    print(\"해당 약어에 해당하는 월이 없습니다\")\n"
   ]
  }
 ],
 "metadata": {
  "kernelspec": {
   "display_name": "base",
   "language": "python",
   "name": "python3"
  },
  "language_info": {
   "codemirror_mode": {
    "name": "ipython",
    "version": 3
   },
   "file_extension": ".py",
   "mimetype": "text/x-python",
   "name": "python",
   "nbconvert_exporter": "python",
   "pygments_lexer": "ipython3",
   "version": "3.10.13"
  }
 },
 "nbformat": 4,
 "nbformat_minor": 5
}
