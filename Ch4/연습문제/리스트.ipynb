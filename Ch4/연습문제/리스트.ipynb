{
 "cells": [
  {
   "cell_type": "markdown",
   "id": "a77544e5",
   "metadata": {},
   "source": [
    "# 4장 연습문제 - 리스트\n",
    "| 2025.09.09 [2주차] | 202311388 김민상 |\n",
    "|---|---|"
   ]
  },
  {
   "cell_type": "markdown",
   "id": "41425a70",
   "metadata": {},
   "source": [
    "## 연습문제 1\n",
    "\n"
   ]
  },
  {
   "cell_type": "markdown",
   "id": "f44d7afa",
   "metadata": {},
   "source": [
    "1. 3명 이상 친구 이름 리스트를 작성하고 다음 내용을 프로그램하시오\n",
    "\n",
    "• insert()로 맨 앞에 새로운 친구 추가\n",
    "\n",
    "• insert()로 3번째 위치에 새로운 친구 추가\n",
    "\n",
    "• append()로 마지막에 친구 추가\n",
    "\n"
   ]
  },
  {
   "cell_type": "code",
   "execution_count": 1,
   "id": "fc0106e7",
   "metadata": {},
   "outputs": [
    {
     "name": "stdout",
     "output_type": "stream",
     "text": [
      "['문효원', '신연준', '염승태', '강찬희', '최민호', '박건호']\n"
     ]
    }
   ],
   "source": [
    "a = ['신연준', '강찬희', '최민호']\n",
    "a.insert(0, '문효원')\n",
    "a.insert(2, '염승태')\n",
    "a.append('박건호')\n",
    "\n",
    "print(a)"
   ]
  },
  {
   "cell_type": "markdown",
   "id": "9dffba43",
   "metadata": {},
   "source": [
    "2. 리스트 [1, 2, 3]에 대해 다음과 같은 처리를 하라.\n",
    "\n",
    "• 두 번째 요소를 17로 수정\n",
    "\n",
    "• 리스트에 4, 5, 6을 추가\n",
    "\n",
    "• 첫 번째 요소 제거\n",
    "\n",
    "• 리스트를 요소 순서대로 배열하기\n",
    "\n",
    "• 인덱스 3에 25넣기\n"
   ]
  },
  {
   "cell_type": "code",
   "execution_count": 5,
   "id": "121d1109",
   "metadata": {},
   "outputs": [
    {
     "name": "stdout",
     "output_type": "stream",
     "text": [
      "[1, 17, 3]\n",
      "[1, 17, 3, 4, 5, 6]\n",
      "[17, 3, 4, 5, 6]\n",
      "[3, 4, 5, 6, 17]\n",
      "[3, 4, 5, 25, 6, 17]\n"
     ]
    }
   ],
   "source": [
    "b = [1, 2, 3]\n",
    "b[1] = 17\n",
    "print(b)\n",
    "b.append(4)\n",
    "b.append(5)\n",
    "b.append(6)\n",
    "print(b)\n",
    "del(b[0])\n",
    "print(b)\n",
    "b.sort()\n",
    "print(b)\n",
    "b.insert(3, 25)\n",
    "\n",
    "print(b)"
   ]
  },
  {
   "cell_type": "markdown",
   "id": "89eb51c8",
   "metadata": {},
   "source": [
    "## 연습문제 2\n",
    "\n",
    "1. for 루프를 이용하여 다음과 같은 리스트를 생성하라.\n",
    "\n",
    "0~49까지의 수로 구성되는 리스트\n",
    "\n",
    "1~50까지 수의 제곱으로 구성되는 리스트"
   ]
  },
  {
   "cell_type": "code",
   "execution_count": null,
   "id": "4c67b549",
   "metadata": {},
   "outputs": [
    {
     "name": "stdout",
     "output_type": "stream",
     "text": [
      "[0, 1, 2, 3, 4, 5, 6, 7, 8, 9, 10, 11, 12, 13, 14, 15, 16, 17, 18, 19, 20, 21, 22, 23, 24, 25, 26, 27, 28, 29, 30, 31, 32, 33, 34, 35, 36, 37, 38, 39, 40, 41, 42, 43, 44, 45, 46, 47, 48, 49]\n",
      "[1, 4, 9, 16, 25, 36, 49, 64, 81, 100, 121, 144, 169, 196, 225, 256, 289, 324, 361, 400, 441, 484, 529, 576, 625, 676, 729, 784, 841, 900, 961, 1024, 1089, 1156, 1225, 1296, 1369, 1444, 1521, 1600, 1681, 1764, 1849, 1936, 2025, 2116, 2209, 2304, 2401, 2500]\n"
     ]
    }
   ],
   "source": [
    "a = [i for i in range(50)]          # 0~49\n",
    "b = [i*i for i in range(1, 51)]     # 1~50의 제곱\n",
    "print(a)\n",
    "print(b)"
   ]
  },
  {
   "cell_type": "markdown",
   "id": "9f828181",
   "metadata": {},
   "source": [
    "2. 크기가 같은 두 개의 리스트 L, M을 생성하고 두 리스트의 각 요소 합으로 구성되는 새로운 리스\n",
    "트를 생성하라. 예를 들어 L=[1,2,3]이고 M=[4,5,6]이면 [5,7,9]인 리스트 생성\n"
   ]
  },
  {
   "cell_type": "code",
   "execution_count": 7,
   "id": "522309cf",
   "metadata": {},
   "outputs": [
    {
     "name": "stdout",
     "output_type": "stream",
     "text": [
      "[7, 9, 11, 13, 15]\n"
     ]
    }
   ],
   "source": [
    "L = [i for i in range(1, 6)]; M = [i for i in range(6, 11)]\n",
    "print([x+y for x, y in zip(L, M)])  # [7,9,11,13,15]"
   ]
  },
  {
   "cell_type": "markdown",
   "id": "ccb796b8",
   "metadata": {},
   "source": [
    "3. 사용자로부터 5개의 숫자를 문자열로 입력 받아 각 숫자를 +로 연결한 문자열을 생성하라. 예를 들\n",
    "어 2, 5, 11, 33, 55를 입력하면 '2+5+11+33+55'를 생성하라."
   ]
  },
  {
   "cell_type": "code",
   "execution_count": 8,
   "id": "5bba6916",
   "metadata": {},
   "outputs": [
    {
     "name": "stdout",
     "output_type": "stream",
     "text": [
      "1+2+3+4+5\n"
     ]
    }
   ],
   "source": [
    "print('+'.join(input(\"숫자 5개를 콤마로: \").replace(' ', '').split(',')))"
   ]
  }
 ],
 "metadata": {
  "kernelspec": {
   "display_name": "base",
   "language": "python",
   "name": "python3"
  },
  "language_info": {
   "codemirror_mode": {
    "name": "ipython",
    "version": 3
   },
   "file_extension": ".py",
   "mimetype": "text/x-python",
   "name": "python",
   "nbconvert_exporter": "python",
   "pygments_lexer": "ipython3",
   "version": "3.10.13"
  }
 },
 "nbformat": 4,
 "nbformat_minor": 5
}
