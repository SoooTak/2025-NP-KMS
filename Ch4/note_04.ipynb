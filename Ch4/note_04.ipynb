{
 "cells": [
  {
   "cell_type": "markdown",
   "id": "4222c7bc",
   "metadata": {},
   "source": [
    "# 4장 노트정리\n",
    "| 2025.09.09 [2주차] | 202311388 김민상 |\n",
    "|---|---|"
   ]
  },
  {
   "cell_type": "markdown",
   "id": "21959a80",
   "metadata": {},
   "source": [
    "## 0. 자료구조\n",
    "\n",
    "자료를 표현, 처리하기 위해 사용되는 구조\n",
    "\n",
    "문자열 / 리스트 / 튜플 / 딕셔너리 / 집합"
   ]
  },
  {
   "cell_type": "markdown",
   "id": "cad86962",
   "metadata": {},
   "source": [
    "-------------\n",
    "\n",
    "## 1. 문자열\n",
    "\n",
    "다수의 문자를 표현하기 위한 자료구조\n",
    "\n",
    "\" \" 또는 ' '로 둘러쌈\n",
    "\n",
    "\n"
   ]
  },
  {
   "cell_type": "code",
   "execution_count": 2,
   "id": "6248c57e",
   "metadata": {},
   "outputs": [
    {
     "data": {
      "text/plain": [
       "'\\n다수의\\n문자열\\n'"
      ]
     },
     "execution_count": 2,
     "metadata": {},
     "output_type": "execute_result"
    }
   ],
   "source": [
    "'''\n",
    "다수의\n",
    "문자열\n",
    "'''\n",
    "# 도 가능"
   ]
  },
  {
   "attachments": {
    "image.png": {
     "image/png": "[encoded data removed]"
    }
   },
   "cell_type": "markdown",
   "id": "4c0640ce",
   "metadata": {},
   "source": [
    "* 인덱스\n",
    "\n",
    "![image.png](attachment:image.png)\n",
    "\n",
    "첫 요소부터 0, 1, 2, ...\n",
    "\n",
    "역순으로는 마지막 순서부터 -1, -2, ..."
   ]
  },
  {
   "cell_type": "markdown",
   "id": "742d5273",
   "metadata": {},
   "source": [
    "* 슬라이싱\n",
    "\n",
    "리스트[a:b] -> a부터 b-1까지\n",
    "\n",
    "[:b] -> 처음부터 b-1까지\n",
    "\n",
    "[a:] -> a부터 끝까지\n",
    "\n",
    "len() -> 문자열, 리스트 등의 길이 확인"
   ]
  },
  {
   "cell_type": "code",
   "execution_count": 4,
   "id": "4dbe657e",
   "metadata": {},
   "outputs": [
    {
     "name": "stdout",
     "output_type": "stream",
     "text": [
      "Jython\n"
     ]
    },
    {
     "data": {
      "text/plain": [
       "6"
      ]
     },
     "execution_count": 4,
     "metadata": {},
     "output_type": "execute_result"
    }
   ],
   "source": [
    "word = 'python'\n",
    "word2 = 'J' + word[1:]\n",
    "print(word2)\n",
    "\n",
    "s = 'qwerty'\n",
    "len(s)"
   ]
  },
  {
   "cell_type": "markdown",
   "id": "cdd71f1a",
   "metadata": {},
   "source": [
    "(ex) 인덱스를 이용한 문자열을 역순으로 출력"
   ]
  },
  {
   "cell_type": "code",
   "execution_count": 7,
   "id": "c93fb2f1",
   "metadata": {},
   "outputs": [
    {
     "name": "stdout",
     "output_type": "stream",
     "text": [
      "Reversed string : rewq\n"
     ]
    }
   ],
   "source": [
    "## 변수 초기화 부분 ##\n",
    "outStr = \"\" #출력 문자열(빈 문자열)\n",
    "count, i = 0, 0\n",
    "## 메인 코드 부분 ##\n",
    "inStr = input(\"Type string : \")\n",
    "count = len(inStr) # 문자열 길이\n",
    "for i in range(0, count) :\n",
    "    outStr += inStr[count - (i + 1)] # 마지막 문자부터 추출하여 합치기\n",
    "print(\"Reversed string : %s\" % outStr)"
   ]
  },
  {
   "cell_type": "markdown",
   "id": "39cfc7fa",
   "metadata": {},
   "source": [
    "* 문자열 처리 메소드\n",
    "\n",
    "#### 문자열 구성 파악\n",
    "'123'.isdigit() 문자열이 숫자인가? \n",
    "\n",
    "'abcABC'.isalpha() 문자열이 문자인가?\n",
    "\n",
    "'Ab122'.isalnum() 문자열이 문자+숫자 혼합인가?\n",
    "\n",
    "'AB'.isupper() 문자열이 대문자인가?\n",
    "\n",
    "'ab'.islower() 문자열이 소문자인가?\n",
    "\n",
    "' '.isspace() 문자열이 공백인가?\n",
    "\n",
    "#### 문자열 대소문자 변환\n",
    "\n",
    "str = 'Python programming is easy!'\n",
    "\n",
    "str.upper() 대문자로 변환\n",
    "\n",
    "str.lower() 소문자로 변환\n",
    "\n",
    "str.swapcase() 대소문자 바꾸기\n",
    "\n",
    "str.title() 첫 글자만 대문자로 변환"
   ]
  },
  {
   "cell_type": "markdown",
   "id": "41d50643",
   "metadata": {},
   "source": [
    "#### 문자열 찾기\n",
    "\n",
    "str = 'Python programming is easy!'\n",
    "\n",
    "str.count('i') 문자열에서 문자 'i'의 개수 -> 2\n",
    "\n",
    "str.find('o') 문자열에서 'o'의 처음 위치. 없으면 -1 반환 -> 4\n",
    "\n",
    "str.rfind('o') 문자열에서 'o'가 나오는 가장 나중 위치 -> 9\n",
    "\n",
    "str.index('on') 문자열에서 'on'의 처음 위치. 없으면 ValueError -> 4\n",
    "\n",
    "\n",
    "#### 문자열 분리\n",
    "\n",
    "x = 'a bc' a와 b 사이에 공백\n",
    "\n",
    "x.split() 공백을 기준으로 분리 -> ['a', 'bc']\n",
    "\n",
    "x.split('b') 문자열을 ( )속의 문자로 분리한다 -> ['a ', 'c'] 분리문자 'b'는 제외됨"
   ]
  },
  {
   "cell_type": "markdown",
   "id": "ba1d70e0",
   "metadata": {},
   "source": [
    "#### 문자열 공백 제거\n",
    "\n",
    "str = ' hello '\n",
    "\n",
    "str.strip() 양쪽에서 공백 제거'hello'\n",
    "\n",
    "str 원래 문자열은 변하지 않는다' hello '\n",
    "\n",
    "str.rstrip() 오른쪽 공백 제거' hello'\n",
    "\n",
    "str.lstrip() 왼쪽 공백 제거'hello '\n",
    "\n",
    "#### 문자열 결합\n",
    "\n",
    "'*'.join('hello') *와 문자열의 각 문자를 하나씩 결합한 문자열 생성'h*e*l*l*o'\n",
    "\n",
    "#### 문자열 채우기\n",
    "\n",
    "'12'.zfill(5) 문자열 '12'의 왼쪽을 0으로 채워 5자리로 만든다'00012'"
   ]
  },
  {
   "cell_type": "markdown",
   "id": "5e3d4a42",
   "metadata": {},
   "source": [
    "#### 문자열 정렬\n",
    "\n",
    "'he'.rjust(5) 5자리를 오른쪽으로 정렬' he'\n",
    "\n",
    "'he'.ljust(5) 5자리를 왼쪽으로 정렬'he '\n",
    "\n",
    "'he'.center(5) 5자리를 가운데로 정렬' he "
   ]
  },
  {
   "cell_type": "markdown",
   "id": "0c6ddd2d",
   "metadata": {},
   "source": [
    "-------------------\n",
    "\n",
    "## 2. 리스트\n",
    "\n",
    "여러 개의 데이터를 하나의 이름으로 저장하는 자료구조\n",
    "\n",
    "리스트명 = [항목1, 항목2, ...]"
   ]
  },
  {
   "cell_type": "code",
   "execution_count": 1,
   "id": "1939fccf",
   "metadata": {},
   "outputs": [
    {
     "name": "stdout",
     "output_type": "stream",
     "text": [
      "[1, 3, 5, 7, 9]\n",
      "[]\n",
      "[1, 'hello', 3.141592, True]\n"
     ]
    }
   ],
   "source": [
    "odd = [1, 3, 5, 7, 9]\n",
    "a = []\n",
    "b = [1, 'hello', 3.141592, True]\n",
    "print(odd)\n",
    "print(a)\n",
    "print(b)"
   ]
  },
  {
   "cell_type": "markdown",
   "id": "399600a3",
   "metadata": {},
   "source": [
    "* 인덱싱, 슬라이싱\n",
    "\n",
    "문자열과 같음"
   ]
  },
  {
   "cell_type": "markdown",
   "id": "e73d08e2",
   "metadata": {},
   "source": [
    "* 리스트의 요소 수정, 추가\n",
    "\n",
    "리스트[인덱스] = 값\n",
    "\n",
    "리스트.append(위치, 값) # 위치 없으면 맨 뒤"
   ]
  },
  {
   "cell_type": "code",
   "execution_count": 4,
   "id": "eb9526f0",
   "metadata": {},
   "outputs": [
    {
     "name": "stdout",
     "output_type": "stream",
     "text": [
      "[1, 2, 9, 4]\n",
      "[1, 2, 9, 4, 123123]\n",
      "[1, 'D', 3, 4.123, 4, 123123]\n"
     ]
    }
   ],
   "source": [
    "a = [1, 2, 3, 4]\n",
    "a[2] = 9\n",
    "print(a)\n",
    "\n",
    "a.append(123123)\n",
    "\n",
    "print(a)\n",
    "\n",
    "a[1:3] = ['D', 3, 4.123]\n",
    "\n",
    "print(a)"
   ]
  },
  {
   "attachments": {
    "image.png": {
     "image/png": "[encoded data removed]"
    }
   },
   "cell_type": "markdown",
   "id": "9f21370f",
   "metadata": {},
   "source": [
    "# 내장 함수를 이용한 리스트\n",
    "\n",
    "![image.png](attachment:image.png)"
   ]
  },
  {
   "cell_type": "code",
   "execution_count": 5,
   "id": "e85c48e6",
   "metadata": {},
   "outputs": [
    {
     "name": "stdout",
     "output_type": "stream",
     "text": [
      "['taxi', 'sedan', 'bus', 'truck ']\n",
      "['truck ', 'bus', 'sedan', 'taxi']\n"
     ]
    }
   ],
   "source": [
    "cars = ['taxi', 'sedan', 'bus', 'truck ']\n",
    "print(cars)\n",
    "cars.reverse() #원래 리스트의 요소 순서를 거꾸로 배열\n",
    "print(cars)\n"
   ]
  },
  {
   "cell_type": "markdown",
   "id": "ebce3e95",
   "metadata": {},
   "source": [
    "* 리스트 내포\n",
    "\n",
    "리스트 안에 for문을 포함하여 한 줄로 리스트를 만드는 방법\n",
    "\n",
    "[표현식 for 항목 in 반복객체]\n",
    "\n",
    "[표현식 for 항목 in 반복객체 if 조건문]\n",
    "\n",
    "[표현식 if 조건문 else 문장 for 항목 in 반복객체]\n"
   ]
  },
  {
   "cell_type": "markdown",
   "id": "d2acca6f",
   "metadata": {},
   "source": [
    "-------------------\n",
    "\n",
    "## 3. 튜플\n",
    "\n",
    "요소 값을 변경할 수 없는 리스트"
   ]
  },
  {
   "cell_type": "code",
   "execution_count": 7,
   "id": "334157a7",
   "metadata": {},
   "outputs": [],
   "source": [
    "t1 = (1,2,3)\n",
    "t2 = 1, 2, 3\n",
    "t3 = 1,\n",
    "t4 = tuple()"
   ]
  },
  {
   "cell_type": "markdown",
   "id": "85da3078",
   "metadata": {},
   "source": [
    "* 튜플 인덱싱, 슬라이싱 : 리스트와 같은 방식\n",
    "\n",
    "* 튜플 연산 : + 튜플 합치기 * 동일한 튜플 복사해 합치기\n",
    "\n",
    "* 튜플과 리스트 상호 변환 : list() tuple()\n",
    "\n",
    "* 언패킹 : 튜플의 요소를 각 변수에 할당"
   ]
  },
  {
   "cell_type": "code",
   "execution_count": 9,
   "id": "dd1fc878",
   "metadata": {},
   "outputs": [
    {
     "name": "stdout",
     "output_type": "stream",
     "text": [
      "(2, 3)\n",
      "(1, 2, 3, 'a', 'b')\n",
      "(1, 2, 3, 1, 2, 3)\n",
      "(1, 2, 3, 4)\n",
      "1 2 3\n"
     ]
    }
   ],
   "source": [
    "print(t1[1:3])\n",
    "\n",
    "t2 = ('a', 'b')\n",
    "print(t1+t2)\n",
    "print(t1*2)\n",
    "\n",
    "t3 = (1, 2, 3)\n",
    "l3 = list(t3)\n",
    "l3.append(4)\n",
    "t3 = tuple(l3)\n",
    "print(t3)\n",
    "\n",
    "a, b, c = (1, 2, 3)\n",
    "print(a, b, c)"
   ]
  },
  {
   "cell_type": "markdown",
   "id": "f6621b38",
   "metadata": {},
   "source": [
    "------------\n",
    "\n",
    "## 4. 딕셔너리\n",
    "\n",
    "키 : 값으로 구성되는 자료구조\n",
    "\n",
    "키 -> 정수, 실수, 문자열, 튜플\n",
    "\n",
    "값 -> 임의의 데이터형\n",
    "\n",
    "{'키1' : 값1, '키2' : 값2, ...}\n",
    "\n",
    "dict()"
   ]
  },
  {
   "cell_type": "markdown",
   "id": "b272db9a",
   "metadata": {},
   "source": [
    "* 키 값 조사\n",
    "\n",
    "딕셔너리['키'] -> 값\n",
    "\n",
    "* 키 뽑아내기\n",
    "\n",
    "딕셔너리.keys()\n",
    "\n",
    "* 값 뽑아내기\n",
    "\n",
    "딕셔너리.items()\n",
    "\n",
    "* 요소 제거\n",
    "\n",
    "딕셔너리.pop('키')\n",
    "\n",
    "딕셔너리.clear() -> 빈 딕셔너리로 만든다"
   ]
  },
  {
   "cell_type": "code",
   "execution_count": 12,
   "id": "d5d08e57",
   "metadata": {},
   "outputs": [
    {
     "name": "stdout",
     "output_type": "stream",
     "text": [
      "170\n",
      "True\n",
      "{'Jun': 174, 'Kim': 170, 'Lee': 165, 'lhm': 168}\n",
      "dict_keys(['Jun', 'Kim', 'Lee', 'lhm'])\n",
      "dict_values([174, 170, 165, 168])\n",
      "dict_items([('Jun', 174), ('Kim', 170), ('Lee', 165), ('lhm', 168)])\n",
      "{'Jun': 174, 'Kim': 170, 'Lee': 165}\n",
      "{}\n"
     ]
    }
   ],
   "source": [
    "height = {'Jun':174, 'Kim':170, 'Lee':165}\n",
    "\n",
    "print( height['Kim'] )\n",
    "\n",
    "print('Kim' in height)\n",
    "\n",
    "height['lhm'] = 168\n",
    "\n",
    "print(height)\n",
    "\n",
    "print(height.keys())\n",
    "\n",
    "print(height.values())\n",
    "\n",
    "print(height.items())\n",
    "\n",
    "height.pop('lhm')\n",
    "print(height)\n",
    "\n",
    "height.clear()\n",
    "print(height)"
   ]
  },
  {
   "cell_type": "markdown",
   "id": "da45db7b",
   "metadata": {},
   "source": [
    "---------------\n",
    "\n",
    "## 5. 집합\n",
    "\n",
    "{} 속에 요소들을 중복되지 않고 순서없이 모아놓은 자료 구조\n",
    "\n",
    "{1, 2, 3}\n",
    "\n",
    "set()\n",
    "\n",
    "개수 확인(len())\n",
    "\n",
    "요소 추가 .add()\n",
    "\n",
    "요소 제거 .remove()\n",
    "\n",
    "* 집합 연산\n",
    "\n",
    "'&' 교집합 .intersection()\n",
    "\n",
    "'|' 합집합 .union()\n",
    "\n",
    "'-' 차집합 .difference()\n",
    "\n",
    "* 부분 집합\n",
    "\n",
    "== 같은가?\n",
    "\n",
    "A < B  -> 집합 A가 집합 B의 부분집합인가? .issubset()"
   ]
  },
  {
   "cell_type": "code",
   "execution_count": 13,
   "id": "79f09032",
   "metadata": {},
   "outputs": [
    {
     "name": "stdout",
     "output_type": "stream",
     "text": [
      "{1, 3, 11, 13, 21, 26}\n",
      "[1, 3, 11, 13, 21, 26]\n"
     ]
    }
   ],
   "source": [
    "import random\n",
    "pick = set()\n",
    "while len(pick) < 6:\n",
    "    n = random.randint(1,45)\n",
    "    if n not in pick:\n",
    "        pick.add(n)\n",
    "print(pick)\n",
    "print(sorted(pick))"
   ]
  }
 ],
 "metadata": {
  "kernelspec": {
   "display_name": "base",
   "language": "python",
   "name": "python3"
  },
  "language_info": {
   "codemirror_mode": {
    "name": "ipython",
    "version": 3
   },
   "file_extension": ".py",
   "mimetype": "text/x-python",
   "name": "python",
   "nbconvert_exporter": "python",
   "pygments_lexer": "ipython3",
   "version": "3.10.13"
  }
 },
 "nbformat": 4,
 "nbformat_minor": 5
}
