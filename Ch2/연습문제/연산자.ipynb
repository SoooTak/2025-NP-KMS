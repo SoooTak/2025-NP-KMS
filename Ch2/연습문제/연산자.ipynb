{
 "cells": [
  {
   "cell_type": "markdown",
   "id": "21cd2eb6",
   "metadata": {},
   "source": [
    "# 2장 연습문제 - 연산자\n",
    "| 2025.09.09 [2주차] | 202311388 김민상 |\n",
    "|---|---|"
   ]
  },
  {
   "cell_type": "markdown",
   "id": "bac16a00",
   "metadata": {},
   "source": [
    "## 산술 및 관계 연산자 연습문제"
   ]
  },
  {
   "cell_type": "markdown",
   "id": "472e0693",
   "metadata": {},
   "source": [
    "1. 5와 3을 더한 값을 출력하는 프로그램을 작성하라."
   ]
  },
  {
   "cell_type": "code",
   "execution_count": 1,
   "id": "65ea2ea6",
   "metadata": {},
   "outputs": [
    {
     "name": "stdout",
     "output_type": "stream",
     "text": [
      "8\n"
     ]
    }
   ],
   "source": [
    "print(5+3)"
   ]
  },
  {
   "cell_type": "markdown",
   "id": "029e1ee8",
   "metadata": {},
   "source": [
    "2. 7에서 3을 뺀 값을 출력하는 프로그램을 작성하라."
   ]
  },
  {
   "cell_type": "code",
   "execution_count": 2,
   "id": "3a5c80f1",
   "metadata": {},
   "outputs": [
    {
     "name": "stdout",
     "output_type": "stream",
     "text": [
      "4\n"
     ]
    }
   ],
   "source": [
    "print(7-3)"
   ]
  },
  {
   "cell_type": "markdown",
   "id": "2585f802",
   "metadata": {},
   "source": [
    "3. 4를 2로 나눈 값을 출력하는 프로그램을 작성하라"
   ]
  },
  {
   "cell_type": "code",
   "execution_count": 3,
   "id": "4d72879c",
   "metadata": {},
   "outputs": [
    {
     "name": "stdout",
     "output_type": "stream",
     "text": [
      "2\n"
     ]
    }
   ],
   "source": [
    "print(4//2)"
   ]
  },
  {
   "cell_type": "markdown",
   "id": "e5af1e43",
   "metadata": {},
   "source": [
    "4. 8을 3으로 나눈 몫과 나머지를 출력하는 프로그램을 작성하라."
   ]
  },
  {
   "cell_type": "code",
   "execution_count": 5,
   "id": "33fb2b3b",
   "metadata": {},
   "outputs": [
    {
     "name": "stdout",
     "output_type": "stream",
     "text": [
      "2 , 2\n"
     ]
    }
   ],
   "source": [
    "print(8//3, \",\", 8%3)"
   ]
  },
  {
   "cell_type": "markdown",
   "id": "f2eef7dd",
   "metadata": {},
   "source": [
    "5. 2의 5제곱을 출력하는 프로그램을 작성하라."
   ]
  },
  {
   "cell_type": "code",
   "execution_count": 6,
   "id": "1a7518f4",
   "metadata": {},
   "outputs": [
    {
     "name": "stdout",
     "output_type": "stream",
     "text": [
      "32\n"
     ]
    }
   ],
   "source": [
    "print(2**5)"
   ]
  },
  {
   "cell_type": "markdown",
   "id": "07385594",
   "metadata": {},
   "source": [
    "6. 입력된 정수가 10보다 크고 20보다 작은지 검사하는 프로그램을 작성하라."
   ]
  },
  {
   "cell_type": "code",
   "execution_count": 7,
   "id": "0c1a1d9e",
   "metadata": {},
   "outputs": [
    {
     "name": "stdout",
     "output_type": "stream",
     "text": [
      "False\n"
     ]
    }
   ],
   "source": [
    "num = int(input(\"정수 : \"))\n",
    "print(num > 10 and num < 20)"
   ]
  },
  {
   "cell_type": "markdown",
   "id": "01410b58",
   "metadata": {},
   "source": [
    "7. 문자열 \"hello\"와 문자열 \"world\"를 이어 붙인 결과를 출력하는 프로그램을 작성하라."
   ]
  },
  {
   "cell_type": "code",
   "execution_count": 8,
   "id": "c7bbd97b",
   "metadata": {},
   "outputs": [
    {
     "name": "stdout",
     "output_type": "stream",
     "text": [
      "helloworld\n"
     ]
    }
   ],
   "source": [
    "s1 = \"hello\"\n",
    "s2 = \"world\"\n",
    "\n",
    "print(s1 + s2)"
   ]
  },
  {
   "cell_type": "markdown",
   "id": "fec12b25",
   "metadata": {},
   "source": [
    "8. 7을 2로 나눈 결과가 3보다 작은지 검사하는 프로그램을 작성하라"
   ]
  },
  {
   "cell_type": "code",
   "execution_count": 9,
   "id": "cfc6b5c5",
   "metadata": {},
   "outputs": [
    {
     "name": "stdout",
     "output_type": "stream",
     "text": [
      "False\n"
     ]
    }
   ],
   "source": [
    "print((7/2) < 3)"
   ]
  },
  {
   "cell_type": "markdown",
   "id": "15493553",
   "metadata": {},
   "source": [
    "9. 변수 x의 값이 5와 같지 않은지 검사하는 프로그램을 작성하라."
   ]
  },
  {
   "cell_type": "code",
   "execution_count": 10,
   "id": "e23c6f18",
   "metadata": {},
   "outputs": [
    {
     "name": "stdout",
     "output_type": "stream",
     "text": [
      "False\n"
     ]
    }
   ],
   "source": [
    "x = int(input(\"x : \"))\n",
    "print(x == 5)"
   ]
  },
  {
   "cell_type": "markdown",
   "id": "a52ebe95",
   "metadata": {},
   "source": [
    "10. 변수 y의 값이 10에서 20 사이의 값인지 검사하는 프로그램을 작성하라."
   ]
  },
  {
   "cell_type": "code",
   "execution_count": 11,
   "id": "66969986",
   "metadata": {},
   "outputs": [
    {
     "name": "stdout",
     "output_type": "stream",
     "text": [
      "True\n"
     ]
    }
   ],
   "source": [
    "y = int(input(\"y : \"))\n",
    "print(y >= 10 and y <= 20)"
   ]
  },
  {
   "cell_type": "markdown",
   "id": "e8c1055d",
   "metadata": {},
   "source": [
    "----------------\n",
    "\n",
    "## 논리 연산자 연습문제"
   ]
  },
  {
   "cell_type": "markdown",
   "id": "79a0ee7e",
   "metadata": {},
   "source": [
    "1. 5가 3보다 크고 7보다 작은지 검사하는 프로그램을 작성하라."
   ]
  },
  {
   "cell_type": "code",
   "execution_count": 12,
   "id": "36c1c93e",
   "metadata": {},
   "outputs": [
    {
     "name": "stdout",
     "output_type": "stream",
     "text": [
      "True\n"
     ]
    }
   ],
   "source": [
    "print(5 > 3 and 5 < 7)"
   ]
  },
  {
   "cell_type": "markdown",
   "id": "2431c953",
   "metadata": {},
   "source": [
    "2. 변수 x가 10 이상이고 20 이하인지 검사하는 프로그램을 작성하라."
   ]
  },
  {
   "cell_type": "code",
   "execution_count": 13,
   "id": "418cfccf",
   "metadata": {},
   "outputs": [
    {
     "name": "stdout",
     "output_type": "stream",
     "text": [
      "True\n"
     ]
    }
   ],
   "source": [
    "x = int(input(\"x : \"))\n",
    "print(x >= 10 and x <= 20)"
   ]
  },
  {
   "cell_type": "markdown",
   "id": "7404d384",
   "metadata": {},
   "source": [
    "3. 변수 y가 5의 배수이거나 7의 배수인지 검사하는 프로그램을 작성하라"
   ]
  },
  {
   "cell_type": "code",
   "execution_count": 14,
   "id": "5b5ceb47",
   "metadata": {},
   "outputs": [
    {
     "name": "stdout",
     "output_type": "stream",
     "text": [
      "True\n"
     ]
    }
   ],
   "source": [
    "y = int(input(\"y : \"))\n",
    "print(y % 5 == 0 or y % 7 == 0)"
   ]
  },
  {
   "cell_type": "markdown",
   "id": "9e0ecb90",
   "metadata": {},
   "source": [
    "4. 변수 z가 양수이면서 짝수인지 검사하는 프로그램을 작성하라."
   ]
  },
  {
   "cell_type": "code",
   "execution_count": 16,
   "id": "e8046992",
   "metadata": {},
   "outputs": [
    {
     "name": "stdout",
     "output_type": "stream",
     "text": [
      "True\n"
     ]
    }
   ],
   "source": [
    "z = int(input(\"z : \"))\n",
    "print(z > 0 and z % 2 == 0)"
   ]
  },
  {
   "cell_type": "markdown",
   "id": "82a44624",
   "metadata": {},
   "source": [
    "5. 변수 a가 문자열 \"hello\"나 문자열 \"world\" 중 하나인지 검사하는 프로그램을 작성하라."
   ]
  },
  {
   "cell_type": "code",
   "execution_count": 18,
   "id": "31850d0d",
   "metadata": {},
   "outputs": [
    {
     "name": "stdout",
     "output_type": "stream",
     "text": [
      "True\n"
     ]
    }
   ],
   "source": [
    "a = input(\"문자열 : \")\n",
    "print(a == 'hello' or a == 'world')"
   ]
  },
  {
   "cell_type": "markdown",
   "id": "0cd1e144",
   "metadata": {},
   "source": [
    "----------\n",
    "\n",
    "## 멤버 연산자 연습문제"
   ]
  },
  {
   "cell_type": "markdown",
   "id": "fb33b61b",
   "metadata": {},
   "source": [
    "1. 숫자 7이 리스트 [1, 2, 3, 4, 5]에 포함되어 있는지 검사하는 프로그램을 작성하라"
   ]
  },
  {
   "cell_type": "code",
   "execution_count": 19,
   "id": "842f0a51",
   "metadata": {},
   "outputs": [
    {
     "name": "stdout",
     "output_type": "stream",
     "text": [
      "False\n"
     ]
    }
   ],
   "source": [
    "ls = [1, 2, 3, 4, 5]\n",
    "print(7 in ls)"
   ]
  },
  {
   "cell_type": "markdown",
   "id": "031fab85",
   "metadata": {},
   "source": [
    "2. 문자열 \"apple\"이 세트 {\"orange\", \"banana\", \"kiwi\"}에 포함되어 있는지 검사하는 프로\n",
    "그램을 작성하라."
   ]
  },
  {
   "cell_type": "code",
   "execution_count": 22,
   "id": "03f8dd19",
   "metadata": {},
   "outputs": [
    {
     "name": "stdout",
     "output_type": "stream",
     "text": [
      "False\n"
     ]
    }
   ],
   "source": [
    "s = {\"orange\", \"banana\", \"kiwi\"}\n",
    "a = \"apple\"\n",
    "print(a in s)"
   ]
  },
  {
   "cell_type": "markdown",
   "id": "b483c7b7",
   "metadata": {},
   "source": [
    "3. 숫자 6이 딕셔너리 {\"a\": 1, \"b\": 2, \"c\": 3, \"d\": 4}의 값들 중 하나인지 검사하는 프로그램을\n",
    "작성하라.\n"
   ]
  },
  {
   "cell_type": "code",
   "execution_count": 24,
   "id": "2eb68dfd",
   "metadata": {},
   "outputs": [
    {
     "name": "stdout",
     "output_type": "stream",
     "text": [
      "False\n"
     ]
    }
   ],
   "source": [
    "d = {\"a\" : 1, \"b\" : 2, \"c\" : 3, \"d\" : 4}\n",
    "print(6 in d)"
   ]
  },
  {
   "cell_type": "markdown",
   "id": "c758f2e0",
   "metadata": {},
   "source": [
    "4. 문자열 \"cat\"이 튜플 (\"dog\", \"cat\", \"bird\", \"hamster\")에 포함되어 있는지 검사하는 프로\n",
    "그램을 작성하라.\n"
   ]
  },
  {
   "cell_type": "code",
   "execution_count": 25,
   "id": "691b3e49",
   "metadata": {},
   "outputs": [
    {
     "name": "stdout",
     "output_type": "stream",
     "text": [
      "True\n"
     ]
    }
   ],
   "source": [
    "t = (\"dog\", \"cat\", \"bird\", \"hamster\")\n",
    "test = \"cat\"\n",
    "print(test in t)"
   ]
  },
  {
   "cell_type": "markdown",
   "id": "ee09dff3",
   "metadata": {},
   "source": [
    "5. 숫자 10이 세트 {2, 4, 6, 8, 10}에 포함되어 있는지 검사하는 프로그램을 작성하라."
   ]
  },
  {
   "cell_type": "code",
   "execution_count": 26,
   "id": "db3ea355",
   "metadata": {},
   "outputs": [
    {
     "name": "stdout",
     "output_type": "stream",
     "text": [
      "True\n"
     ]
    }
   ],
   "source": [
    "s = {2, 4, 6, 8, 10}\n",
    "print(10 in s)"
   ]
  },
  {
   "cell_type": "markdown",
   "id": "7bb30d09",
   "metadata": {},
   "source": [
    "---------\n",
    "\n",
    "## 연습문제 2"
   ]
  },
  {
   "cell_type": "markdown",
   "id": "c185f542",
   "metadata": {},
   "source": [
    "1. 초를 입력하면 분과 초로 표시하는 프로그램. 예를 들어, 200초를 입력하면 3분 20초로 표현하라"
   ]
  },
  {
   "cell_type": "code",
   "execution_count": 27,
   "id": "ac7b2b3b",
   "metadata": {},
   "outputs": [
    {
     "name": "stdout",
     "output_type": "stream",
     "text": [
      "3분 20초\n"
     ]
    }
   ],
   "source": [
    "s = int(input(\"초 : \"))\n",
    "print(f\"{s // 60}분 {s % 60}초\")"
   ]
  },
  {
   "cell_type": "markdown",
   "id": "910f5ac6",
   "metadata": {},
   "source": [
    "2. 분(min)을 입력 하면, 일, 시간, 분으로 출력하는 프로그램을 만들어라. (예 : 1550분은 1일 1\n",
    "시간 50분)"
   ]
  },
  {
   "cell_type": "code",
   "execution_count": 30,
   "id": "5722e61b",
   "metadata": {},
   "outputs": [
    {
     "name": "stdout",
     "output_type": "stream",
     "text": [
      "1일 1시간 50분\n"
     ]
    }
   ],
   "source": [
    "m = int(input(\"분 : \"))\n",
    "print(f\"{m // (60*24)}일 {(m // 60) % 24}시간 {m % 60}분\")"
   ]
  },
  {
   "cell_type": "markdown",
   "id": "772c6ff2",
   "metadata": {},
   "source": [
    "3. 500만원을 년이율 5%로 복리 저금했을 때 5년 후의 원리금의 합계를 출력하는 프로그램\n"
   ]
  },
  {
   "cell_type": "code",
   "execution_count": 31,
   "id": "37128d83",
   "metadata": {},
   "outputs": [
    {
     "name": "stdout",
     "output_type": "stream",
     "text": [
      "6381408\n"
     ]
    }
   ],
   "source": [
    "print(f\"{5000000 * (1+0.05)**5:.0f}\")"
   ]
  },
  {
   "cell_type": "markdown",
   "id": "be6e7e2a",
   "metadata": {},
   "source": [
    "4. 1부터 n까지의 합은 n(n+1)/2로 주어진다. 1부터 100까지의 합을 구하여 출력하는 프로그램을\n",
    "작성하고 실행하라.\n"
   ]
  },
  {
   "cell_type": "code",
   "execution_count": 32,
   "id": "50d961bb",
   "metadata": {},
   "outputs": [
    {
     "name": "stdout",
     "output_type": "stream",
     "text": [
      "5050\n"
     ]
    }
   ],
   "source": [
    "n = 100\n",
    "print(n*(n+1)//2)\n"
   ]
  },
  {
   "cell_type": "markdown",
   "id": "feb8166d",
   "metadata": {},
   "source": [
    "5. 판매자가 딸기와 포도를 판매하고 있다. 포도 한 알의 무게는 75g이고 딸기 한 알의 무게는\n",
    "113.5g이다. 사용자로부터 포도 알의 개수와 딸기의 개수를 입력 받아 총 무게를 계산하여 출력\n",
    "하는 프로그램을 작성하고 실행하라."
   ]
  },
  {
   "cell_type": "code",
   "execution_count": 34,
   "id": "f1d4fc9f",
   "metadata": {},
   "outputs": [
    {
     "name": "stdout",
     "output_type": "stream",
     "text": [
      "490.5g\n"
     ]
    }
   ],
   "source": [
    "g, s = map(int, input(\"포도, 딸기 (띄어쓰기 구분): \").split()) \n",
    "print(f\"{g*75 + s*113.5:.1f}g\")"
   ]
  }
 ],
 "metadata": {
  "kernelspec": {
   "display_name": "base",
   "language": "python",
   "name": "python3"
  },
  "language_info": {
   "codemirror_mode": {
    "name": "ipython",
    "version": 3
   },
   "file_extension": ".py",
   "mimetype": "text/x-python",
   "name": "python",
   "nbconvert_exporter": "python",
   "pygments_lexer": "ipython3",
   "version": "3.10.13"
  }
 },
 "nbformat": 4,
 "nbformat_minor": 5
}
