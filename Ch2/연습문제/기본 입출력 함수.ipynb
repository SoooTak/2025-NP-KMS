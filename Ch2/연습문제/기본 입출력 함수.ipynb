{
 "cells": [
  {
   "cell_type": "markdown",
   "id": "517e835d",
   "metadata": {},
   "source": [
    "# 2장 연습문제 - 기본 입출력 함수\n",
    "| 2025.09.09 [2주차] | 202311388 김민상 |\n",
    "|---|---|\n",
    "\n",
    "## 연습문제 1"
   ]
  },
  {
   "cell_type": "markdown",
   "id": "f0ad1f0f",
   "metadata": {},
   "source": [
    "1. 키보드에서 임의의 두 실수를 입력 받아 곱한 후 그 결과를 출력하는 프로그램을 작성하고 실행\n",
    "하라"
   ]
  },
  {
   "cell_type": "code",
   "execution_count": 1,
   "id": "308fbbf8",
   "metadata": {},
   "outputs": [
    {
     "name": "stdout",
     "output_type": "stream",
     "text": [
      "3.7199999999999998\n"
     ]
    }
   ],
   "source": [
    "a = float(input(\"a : \"))\n",
    "b = float(input(\"b : \"))\n",
    "\n",
    "print(a * b)"
   ]
  },
  {
   "cell_type": "markdown",
   "id": "6e9b3d67",
   "metadata": {},
   "source": [
    "2. 1마일은 1.609km이다. 키보드에서 마일(정수)을 입력 받아 km로 변환해 출력하는 프로그램을\n",
    "작성하고 실행하라"
   ]
  },
  {
   "cell_type": "code",
   "execution_count": 3,
   "id": "751c19fc",
   "metadata": {},
   "outputs": [
    {
     "name": "stdout",
     "output_type": "stream",
     "text": [
      "3.218 km\n"
     ]
    }
   ],
   "source": [
    "mile = int(input(\"마일 : \"))\n",
    "print(f\"{mile*1.609} km\")"
   ]
  },
  {
   "cell_type": "markdown",
   "id": "7df825a4",
   "metadata": {},
   "source": [
    "3. 원의 반지름을 입력 받아 원의 둘레와 원의 면적을 출력하는 프로그램을 작성하라"
   ]
  },
  {
   "cell_type": "code",
   "execution_count": 4,
   "id": "95c3573d",
   "metadata": {},
   "outputs": [
    {
     "name": "stdout",
     "output_type": "stream",
     "text": [
      "둘레 : 6.28, 면적 : 3.14\n"
     ]
    }
   ],
   "source": [
    "circle = float(input(\"반지름 : \"))\n",
    "print(f\"둘레 : {circle * 2 * 3.14}, 면적 : {circle*circle*3.14}\")"
   ]
  }
 ],
 "metadata": {
  "kernelspec": {
   "display_name": "base",
   "language": "python",
   "name": "python3"
  },
  "language_info": {
   "codemirror_mode": {
    "name": "ipython",
    "version": 3
   },
   "file_extension": ".py",
   "mimetype": "text/x-python",
   "name": "python",
   "nbconvert_exporter": "python",
   "pygments_lexer": "ipython3",
   "version": "3.10.13"
  }
 },
 "nbformat": 4,
 "nbformat_minor": 5
}
