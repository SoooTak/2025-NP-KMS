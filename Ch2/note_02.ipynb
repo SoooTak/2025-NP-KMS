{
 "cells": [
  {
   "cell_type": "markdown",
   "id": "c5514e6b",
   "metadata": {},
   "source": [
    "## 2장 노트정리\n",
    "\n",
    "202311388 김민상\n",
    "\n",
    "2025.09.09[2주차]"
   ]
  },
  {
   "cell_type": "code",
   "execution_count": 1,
   "id": "2a10a763",
   "metadata": {},
   "outputs": [
    {
     "name": "stdout",
     "output_type": "stream",
     "text": [
      "Hello world!\n"
     ]
    }
   ],
   "source": [
    "print(\"Hello world!\")"
   ]
  },
  {
   "cell_type": "markdown",
   "id": "7ffd2960",
   "metadata": {},
   "source": [
    "스테이징 : git add ~  \n",
    "\n",
    "커밋 : git commit -m \"메시지\"\n",
    "\n",
    "푸시 : git push 저장소 브랜치\n",
    "\n"
   ]
  },
  {
   "cell_type": "code",
   "execution_count": 2,
   "id": "32546306",
   "metadata": {},
   "outputs": [
    {
     "name": "stdout",
     "output_type": "stream",
     "text": [
      "x = 3\n"
     ]
    }
   ],
   "source": [
    "x = 3\n",
    "print(f\"x = {3}\")"
   ]
  }
 ],
 "metadata": {
  "kernelspec": {
   "display_name": "base",
   "language": "python",
   "name": "python3"
  },
  "language_info": {
   "codemirror_mode": {
    "name": "ipython",
    "version": 3
   },
   "file_extension": ".py",
   "mimetype": "text/x-python",
   "name": "python",
   "nbconvert_exporter": "python",
   "pygments_lexer": "ipython3",
   "version": "3.10.13"
  }
 },
 "nbformat": 4,
 "nbformat_minor": 5
}
